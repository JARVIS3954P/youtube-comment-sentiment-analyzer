{
  "cells": [
    {
      "cell_type": "markdown",
      "metadata": {
        "id": "DUxkx8XzLk3e"
      },
      "source": [
        "# Data Preparation"
      ]
    },
    {
      "cell_type": "code",
      "execution_count": null,
      "metadata": {
        "id": "BmQXr0HmLjbP"
      },
      "outputs": [],
      "source": [
        "import pandas as pd\n",
        "import numpy as np\n",
        "\n",
        "# Load dataset - adjust path if needed\n",
        "try:\n",
        "    df = pd.read_csv('./YoutubeCommentsDataSet.csv')\n",
        "except FileNotFoundError:\n",
        "    try:\n",
        "        df = pd.read_csv('./YoutubeCommentsDataSet.csv')\n",
        "    except FileNotFoundError:\n",
        "        print(\"Dataset file not found. Please upload or download it first.\")\n",
        "        # Create a sample dataframe for testing\n",
        "        df = pd.DataFrame({\n",
        "            'Comment': ['This is great!', 'I hate this', 'Not sure what to think'],\n",
        "            'Sentiment': [2, 0, 1]  # 0=negative, 1=neutral, 2=positive\n",
        "        })\n",
        "\n",
        "# Check structure\n",
        "print(df.head())\n",
        "print(f\"\\nClass distribution:\\n{df['Sentiment'].value_counts()}\")\n",
        "\n",
        "# Calculate class weights\n",
        "from sklearn.utils import class_weight\n",
        "class_weights = class_weight.compute_class_weight(\n",
        "    'balanced',\n",
        "    classes=np.unique(df['Sentiment']),\n",
        "    y=df['Sentiment']\n",
        ")\n",
        "class_weights = dict(enumerate(class_weights))\n",
        "print(f\"\\nClass weights: {class_weights}\")"
      ]
    },
    {
      "cell_type": "markdown",
      "metadata": {
        "id": "6nukpZmILp9u"
      },
      "source": [
        "# Text Processing for LSTM"
      ]
    },
    {
      "cell_type": "code",
      "execution_count": null,
      "metadata": {
        "id": "VQK5EfSuLuQH"
      },
      "outputs": [],
      "source": [
        "from tensorflow.keras.preprocessing.text import Tokenizer\n",
        "from tensorflow.keras.preprocessing.sequence import pad_sequences\n",
        "\n",
        "# Initialize tokenizer with error handling\n",
        "tokenizer = Tokenizer(num_words=10000, oov_token=\"<OOV>\")\n",
        "tokenizer.fit_on_texts(df['Comment'].astype(str))\n",
        "\n",
        "# Convert text to sequences\n",
        "sequences = tokenizer.texts_to_sequences(df['Comment'].astype(str))\n",
        "padded_sequences = pad_sequences(sequences, maxlen=200, truncating='post', padding='post')\n",
        "\n",
        "# Vocabulary info\n",
        "word_index = tokenizer.word_index\n",
        "print(f\"Vocabulary size: {len(word_index)}\")\n",
        "\n",
        "# Train-test split\n",
        "from sklearn.model_selection import train_test_split\n",
        "# Import properly from imblearn with error handling\n",
        "try:\n",
        "    from imblearn.over_sampling import RandomOverSampler\n",
        "except ImportError:\n",
        "    print(\"Installing imblearn...\")\n",
        "    from imblearn.over_sampling import RandomOverSampler\n",
        "\n",
        "X = padded_sequences\n",
        "y = pd.get_dummies(df['Sentiment']).values  # One-hot encoding\n",
        "\n",
        "X_train, X_test, y_train, y_test = train_test_split(X, y, test_size=0.2, random_state=42)\n",
        "\n",
        "# Oversample minority classes\n",
        "ros = RandomOverSampler(random_state=42)\n",
        "X_train_resampled, y_train_resampled = ros.fit_resample(X_train, y_train)"
      ]
    },
    {
      "cell_type": "markdown",
      "metadata": {
        "id": "srbD-DjaMCPm"
      },
      "source": [
        "# BiLSTM Architecture"
      ]
    },
    {
      "cell_type": "code",
      "execution_count": null,
      "metadata": {
        "id": "kN4iYCK6MF_F"
      },
      "outputs": [],
      "source": [
        "from tensorflow.keras.models import Sequential\n",
        "from tensorflow.keras.layers import Embedding, Bidirectional, LSTM, Dense, Dropout, BatchNormalization\n",
        "from tensorflow.keras.regularizers import l2\n",
        "from tensorflow.keras.optimizers import Adam\n",
        "\n",
        "\n",
        "def build_optimized_model(vocab_size):\n",
        "    model = Sequential([\n",
        "        # Input layer\n",
        "        Embedding(input_dim=vocab_size + 1,\n",
        "                  output_dim=128,\n",
        "                  mask_zero=True,\n",
        "                  input_length=200),\n",
        "\n",
        "        # First layer with normalization and dropout\n",
        "        BatchNormalization(),\n",
        "        Dropout(0.3),\n",
        "\n",
        "        # First bidirectional LSTM layer\n",
        "        Bidirectional(LSTM(128, return_sequences=True,\n",
        "                       kernel_regularizer=l2(0.01),\n",
        "                       recurrent_dropout=0.2)),\n",
        "\n",
        "        # More regularization\n",
        "        Dropout(0.4),\n",
        "        BatchNormalization(),\n",
        "\n",
        "        # Second bidirectional LSTM layer\n",
        "        Bidirectional(LSTM(64,\n",
        "                       kernel_regularizer=l2(0.01),\n",
        "                       recurrent_dropout=0.2)),\n",
        "\n",
        "        # Final dense layers\n",
        "        Dropout(0.4),\n",
        "        Dense(64, activation='relu', kernel_regularizer=l2(0.01)),\n",
        "        BatchNormalization(),\n",
        "        Dense(3, activation='softmax', dtype='float32') # Force float32 output\n",
        "    ])\n",
        "\n",
        "    return model\n",
        "\n",
        "# Create the model\n",
        "model = build_optimized_model(len(word_index))\n",
        "model.summary()"
      ]
    },
    {
      "cell_type": "code",
      "execution_count": null,
      "metadata": {
        "id": "SE5LUbQSMLJ9"
      },
      "outputs": [],
      "source": [
        "import tensorflow as tf\n",
        "from tensorflow.keras.metrics import Metric\n",
        "\n",
        "class F1Score(Metric):\n",
        "    def __init__(self, num_classes, average='macro', name='f1_score', **kwargs):\n",
        "        super(F1Score, self).__init__(name=name, **kwargs)\n",
        "        self.num_classes = num_classes\n",
        "        self.average = average\n",
        "        self.precision = tf.keras.metrics.Precision()\n",
        "        self.recall = tf.keras.metrics.Recall()\n",
        "\n",
        "    def update_state(self, y_true, y_pred, sample_weight=None):\n",
        "        y_pred = tf.argmax(y_pred, axis=-1)\n",
        "        y_true = tf.argmax(y_true, axis=-1)\n",
        "\n",
        "        self.precision.update_state(y_true, y_pred, sample_weight)\n",
        "        self.recall.update_state(y_true, y_pred, sample_weight)\n",
        "\n",
        "    def result(self):\n",
        "        p = self.precision.result()\n",
        "        r = self.recall.result()\n",
        "        return 2 * ((p * r) / (p + r + tf.keras.backend.epsilon()))\n",
        "\n",
        "    def reset_state(self):\n",
        "        self.precision.reset_state()\n",
        "        self.recall.reset_state()"
      ]
    },
    {
      "cell_type": "code",
      "execution_count": null,
      "metadata": {
        "id": "oWVQ-JcvQg9i"
      },
      "outputs": [],
      "source": [
        "from tensorflow.keras import mixed_precision\n",
        "policy = mixed_precision.Policy('mixed_float16')\n",
        "mixed_precision.set_global_policy(policy)\n",
        "\n",
        "# Set training parameters\n",
        "initial_learning_rate = 0.0005\n",
        "epochs = 50  # Reduced from 100 to avoid long training times\n",
        "batch_size = 128  # Changed for better performance\n",
        "\n",
        "# Optimizer with gradient clipping to prevent exploding gradients\n",
        "optimizer = Adam(learning_rate=initial_learning_rate, clipnorm=1.0)\n",
        "\n",
        "model.compile(\n",
        "    loss='categorical_crossentropy',\n",
        "    optimizer=optimizer,\n",
        "    metrics=['accuracy',\n",
        "             tf.keras.metrics.Precision(name='precision'),\n",
        "             tf.keras.metrics.Recall(name='recall'),\n",
        "             F1Score(num_classes=3, average='macro', name='f1_score')],\n",
        "    jit_compile=True  # Enable XLA compilation for speed\n",
        ")\n",
        "\n",
        "# Adjusted class weights based on dataset imbalance\n",
        "class_weights = {\n",
        "    0: 2.5,  # Negative\n",
        "    1: 1.0,  # Neutral\n",
        "    2: 0.8   # Positive\n",
        "}"
      ]
    },
    {
      "cell_type": "code",
      "execution_count": 6,
      "metadata": {
        "id": "H0qjcSssMPHO"
      },
      "outputs": [
        {
          "name": "stdout",
          "output_type": "stream",
          "text": [
            "\u001b[1m215/215\u001b[0m \u001b[32m━━━━━━━━━━━━━━━━━━━━\u001b[0m\u001b[37m\u001b[0m \u001b[1m0s\u001b[0m 10s/step - accuracy: 0.8826 - f1_score: 0.9587 - loss: 1.4909 - precision: 0.8931 - recall: 0.8721 \n",
            "Epoch 3: val_loss improved from 2.14722 to 1.50482, saving model to best_model.h5\n"
          ]
        },
        {
          "name": "stderr",
          "output_type": "stream",
          "text": [
            "WARNING:absl:You are saving your model as an HDF5 file via `model.save()` or `keras.saving.save_model(model)`. This file format is considered legacy. We recommend using instead the native Keras format, e.g. `model.save('my_model.keras')` or `keras.saving.save_model(model, 'my_model.keras')`. \n"
          ]
        },
        {
          "name": "stdout",
          "output_type": "stream",
          "text": [
            "\u001b[1m215/215\u001b[0m \u001b[32m━━━━━━━━━━━━━━━━━━━━\u001b[0m\u001b[37m\u001b[0m \u001b[1m2197s\u001b[0m 10s/step - accuracy: 0.8826 - f1_score: 0.9587 - loss: 1.4901 - precision: 0.8932 - recall: 0.8722 - val_accuracy: 0.7143 - val_f1_score: 0.9196 - val_loss: 1.5048 - val_precision: 0.7277 - val_recall: 0.6966 - learning_rate: 5.0000e-04\n",
            "Epoch 4/10\n",
            "\u001b[1m215/215\u001b[0m \u001b[32m━━━━━━━━━━━━━━━━━━━━\u001b[0m\u001b[37m\u001b[0m \u001b[1m0s\u001b[0m 3s/step - accuracy: 0.9191 - f1_score: 0.9745 - loss: 0.8402 - precision: 0.9262 - recall: 0.9135\n",
            "Epoch 4: val_loss improved from 1.50482 to 1.33725, saving model to best_model.h5\n"
          ]
        },
        {
          "name": "stderr",
          "output_type": "stream",
          "text": [
            "WARNING:absl:You are saving your model as an HDF5 file via `model.save()` or `keras.saving.save_model(model)`. This file format is considered legacy. We recommend using instead the native Keras format, e.g. `model.save('my_model.keras')` or `keras.saving.save_model(model, 'my_model.keras')`. \n"
          ]
        },
        {
          "name": "stdout",
          "output_type": "stream",
          "text": [
            "\u001b[1m215/215\u001b[0m \u001b[32m━━━━━━━━━━━━━━━━━━━━\u001b[0m\u001b[37m\u001b[0m \u001b[1m770s\u001b[0m 4s/step - accuracy: 0.9191 - f1_score: 0.9745 - loss: 0.8398 - precision: 0.9262 - recall: 0.9135 - val_accuracy: 0.7192 - val_f1_score: 0.9128 - val_loss: 1.3372 - val_precision: 0.7278 - val_recall: 0.7086 - learning_rate: 5.0000e-04\n",
            "Epoch 5/10\n",
            "\u001b[1m215/215\u001b[0m \u001b[32m━━━━━━━━━━━━━━━━━━━━\u001b[0m\u001b[37m\u001b[0m \u001b[1m0s\u001b[0m 3s/step - accuracy: 0.9419 - f1_score: 0.9841 - loss: 0.5181 - precision: 0.9463 - recall: 0.9386\n",
            "Epoch 5: val_loss improved from 1.33725 to 1.19242, saving model to best_model.h5\n"
          ]
        },
        {
          "name": "stderr",
          "output_type": "stream",
          "text": [
            "WARNING:absl:You are saving your model as an HDF5 file via `model.save()` or `keras.saving.save_model(model)`. This file format is considered legacy. We recommend using instead the native Keras format, e.g. `model.save('my_model.keras')` or `keras.saving.save_model(model, 'my_model.keras')`. \n"
          ]
        },
        {
          "name": "stdout",
          "output_type": "stream",
          "text": [
            "\u001b[1m215/215\u001b[0m \u001b[32m━━━━━━━━━━━━━━━━━━━━\u001b[0m\u001b[37m\u001b[0m \u001b[1m728s\u001b[0m 3s/step - accuracy: 0.9419 - f1_score: 0.9841 - loss: 0.5179 - precision: 0.9463 - recall: 0.9386 - val_accuracy: 0.7230 - val_f1_score: 0.9200 - val_loss: 1.1924 - val_precision: 0.7307 - val_recall: 0.7135 - learning_rate: 5.0000e-04\n",
            "Epoch 6/10\n",
            "\u001b[1m215/215\u001b[0m \u001b[32m━━━━━━━━━━━━━━━━━━━━\u001b[0m\u001b[37m\u001b[0m \u001b[1m0s\u001b[0m 7s/step - accuracy: 0.9581 - f1_score: 0.9884 - loss: 0.3334 - precision: 0.9602 - recall: 0.9558\n",
            "Epoch 6: val_loss did not improve from 1.19242\n",
            "\u001b[1m215/215\u001b[0m \u001b[32m━━━━━━━━━━━━━━━━━━━━\u001b[0m\u001b[37m\u001b[0m \u001b[1m1488s\u001b[0m 7s/step - accuracy: 0.9581 - f1_score: 0.9884 - loss: 0.3333 - precision: 0.9602 - recall: 0.9558 - val_accuracy: 0.7075 - val_f1_score: 0.9046 - val_loss: 1.2723 - val_precision: 0.7124 - val_recall: 0.6969 - learning_rate: 5.0000e-04\n",
            "Epoch 7/10\n",
            "\u001b[1m215/215\u001b[0m \u001b[32m━━━━━━━━━━━━━━━━━━━━\u001b[0m\u001b[37m\u001b[0m \u001b[1m0s\u001b[0m 58s/step - accuracy: 0.9611 - f1_score: 0.9878 - loss: 0.2465 - precision: 0.9632 - recall: 0.9598 \n",
            "Epoch 7: val_loss did not improve from 1.19242\n",
            "\u001b[1m215/215\u001b[0m \u001b[32m━━━━━━━━━━━━━━━━━━━━\u001b[0m\u001b[37m\u001b[0m \u001b[1m12363s\u001b[0m 58s/step - accuracy: 0.9611 - f1_score: 0.9878 - loss: 0.2464 - precision: 0.9632 - recall: 0.9598 - val_accuracy: 0.7143 - val_f1_score: 0.9071 - val_loss: 1.3081 - val_precision: 0.7190 - val_recall: 0.7097 - learning_rate: 5.0000e-04\n",
            "Epoch 8/10\n",
            "\u001b[1m215/215\u001b[0m \u001b[32m━━━━━━━━━━━━━━━━━━━━\u001b[0m\u001b[37m\u001b[0m \u001b[1m0s\u001b[0m 3s/step - accuracy: 0.9679 - f1_score: 0.9904 - loss: 0.1842 - precision: 0.9703 - recall: 0.9660\n",
            "Epoch 8: val_loss did not improve from 1.19242\n",
            "\n",
            "Epoch 8: ReduceLROnPlateau reducing learning rate to 0.0002500000118743628.\n",
            "\u001b[1m215/215\u001b[0m \u001b[32m━━━━━━━━━━━━━━━━━━━━\u001b[0m\u001b[37m\u001b[0m \u001b[1m684s\u001b[0m 3s/step - accuracy: 0.9679 - f1_score: 0.9904 - loss: 0.1842 - precision: 0.9703 - recall: 0.9660 - val_accuracy: 0.7260 - val_f1_score: 0.9131 - val_loss: 1.2910 - val_precision: 0.7287 - val_recall: 0.7216 - learning_rate: 5.0000e-04\n",
            "Epoch 9/10\n",
            "\u001b[1m215/215\u001b[0m \u001b[32m━━━━━━━━━━━━━━━━━━━━\u001b[0m\u001b[37m\u001b[0m \u001b[1m0s\u001b[0m 3s/step - accuracy: 0.9803 - f1_score: 0.9952 - loss: 0.1376 - precision: 0.9817 - recall: 0.9790\n",
            "Epoch 9: val_loss did not improve from 1.19242\n",
            "\u001b[1m215/215\u001b[0m \u001b[32m━━━━━━━━━━━━━━━━━━━━\u001b[0m\u001b[37m\u001b[0m \u001b[1m668s\u001b[0m 3s/step - accuracy: 0.9803 - f1_score: 0.9952 - loss: 0.1375 - precision: 0.9817 - recall: 0.9790 - val_accuracy: 0.7238 - val_f1_score: 0.9178 - val_loss: 1.2666 - val_precision: 0.7277 - val_recall: 0.7186 - learning_rate: 2.5000e-04\n",
            "Epoch 10/10\n",
            "\u001b[1m215/215\u001b[0m \u001b[32m━━━━━━━━━━━━━━━━━━━━\u001b[0m\u001b[37m\u001b[0m \u001b[1m0s\u001b[0m 3s/step - accuracy: 0.9843 - f1_score: 0.9959 - loss: 0.1051 - precision: 0.9857 - recall: 0.9835\n",
            "Epoch 10: val_loss did not improve from 1.19242\n",
            "\u001b[1m215/215\u001b[0m \u001b[32m━━━━━━━━━━━━━━━━━━━━\u001b[0m\u001b[37m\u001b[0m \u001b[1m676s\u001b[0m 3s/step - accuracy: 0.9843 - f1_score: 0.9959 - loss: 0.1051 - precision: 0.9857 - recall: 0.9835 - val_accuracy: 0.7127 - val_f1_score: 0.9154 - val_loss: 1.2493 - val_precision: 0.7163 - val_recall: 0.7078 - learning_rate: 2.5000e-04\n",
            "Epoch 10: early stopping\n",
            "Restoring model weights from the end of the best epoch: 5.\n"
          ]
        }
      ],
      "source": [
        "# Create callbacks for better training\n",
        "from tensorflow.keras.callbacks import EarlyStopping, ModelCheckpoint, ReduceLROnPlateau\n",
        "\n",
        "callbacks = [\n",
        "    # Stop training when validation loss stops improving\n",
        "    EarlyStopping(\n",
        "        monitor='val_loss',\n",
        "        patience=5,\n",
        "        restore_best_weights=True,\n",
        "        verbose=1\n",
        "    ),\n",
        "\n",
        "    # Save the best model\n",
        "    ModelCheckpoint(\n",
        "        'best_model.h5',\n",
        "        monitor='val_loss',\n",
        "        save_best_only=True,\n",
        "        verbose=1\n",
        "    ),\n",
        "\n",
        "    # Reduce learning rate when plateauing\n",
        "    ReduceLROnPlateau(\n",
        "        monitor='val_loss',\n",
        "        factor=0.5,\n",
        "        patience=3,\n",
        "        min_lr=1e-6,\n",
        "        verbose=1\n",
        "    )\n",
        "]\n",
        "\n",
        "# Train the model with class weights and callbacks\n",
        "\n",
        "# Ensure that the resampled data is not empty and has the correct shape\n",
        "if X_train_resampled.size > 0 and y_train_resampled.size > 0:\n",
        "    print(f\"Resampled data shapes: X_train_resampled={X_train_resampled.shape}, y_train_resampled={y_train_resampled.shape}\")\n",
        "else:\n",
        "    print(\"Warning: Resampled data is empty or invalid. Falling back to original data.\")\n",
        "\n",
        "# Use X_train_resampled and y_train_resampled for balanced training\n",
        "with tf.device('/GPU:0'):\n",
        "    try:\n",
        "        if X_train_resampled.size > 0 and y_train_resampled.size > 0:\n",
        "            history = model.fit(\n",
        "                X_train_resampled, y_train_resampled,\n",
        "                validation_data=(X_test, y_test),\n",
        "                epochs=10,\n",
        "                batch_size=128,\n",
        "                class_weight=class_weights,\n",
        "                callbacks=callbacks,\n",
        "                verbose=1\n",
        "            )\n",
        "        else:\n",
        "            raise ValueError(\"Resampled data is empty or invalid.\")\n",
        "    except Exception as e:\n",
        "        print(f\"Error during training: {e}\")\n",
        "        print(\"\\nTrying without resampled data...\")\n",
        "\n",
        "        # Fallback to original data if resampling causes issues\n",
        "        history = model.fit(\n",
        "            X_train, y_train,\n",
        "            validation_data=(X_test, y_test),\n",
        "            epochs=10,\n",
        "            batch_size=128,\n",
        "            class_weight=class_weights,\n",
        "            callbacks=callbacks,\n",
        "            verbose=1\n",
        "        )"
      ]
    },
    {
      "cell_type": "markdown",
      "metadata": {
        "id": "jEzPbBm-MqGE"
      },
      "source": [
        "# Save and Load Model"
      ]
    },
    {
      "cell_type": "code",
      "execution_count": 7,
      "metadata": {
        "id": "3i37ln6UMkPl"
      },
      "outputs": [
        {
          "name": "stderr",
          "output_type": "stream",
          "text": [
            "WARNING:absl:You are saving your model as an HDF5 file via `model.save()` or `keras.saving.save_model(model)`. This file format is considered legacy. We recommend using instead the native Keras format, e.g. `model.save('my_model.keras')` or `keras.saving.save_model(model, 'my_model.keras')`. \n",
            "WARNING:absl:Compiled the loaded model, but the compiled metrics have yet to be built. `model.compile_metrics` will be empty until you train or evaluate the model.\n",
            "WARNING:absl:Error in loading the saved optimizer state. As a result, your model is starting with a freshly initialized optimizer.\n"
          ]
        }
      ],
      "source": [
        "from tensorflow.keras.models import load_model\n",
        "import pickle\n",
        "\n",
        "# Save model and tokenizer\n",
        "model.save('youtube_sentiment_bilstm.h5')\n",
        "with open('tokenizer.pickle', 'wb') as handle:\n",
        "    pickle.dump(tokenizer, handle, protocol=pickle.HIGHEST_PROTOCOL)\n",
        "\n",
        "# Load model and tokenizer\n",
        "model = load_model('youtube_sentiment_bilstm.h5')\n",
        "with open('tokenizer.pickle', 'rb') as handle:\n",
        "    tokenizer = pickle.load(handle)"
      ]
    },
    {
      "cell_type": "markdown",
      "metadata": {
        "id": "Ggjgx0ETMRDF"
      },
      "source": [
        "# Evaluation"
      ]
    },
    {
      "cell_type": "code",
      "execution_count": 8,
      "metadata": {
        "id": "7vSDIxlOMT1F"
      },
      "outputs": [
        {
          "name": "stdout",
          "output_type": "stream",
          "text": [
            "\u001b[1m116/116\u001b[0m \u001b[32m━━━━━━━━━━━━━━━━━━━━\u001b[0m\u001b[37m\u001b[0m \u001b[1m13s\u001b[0m 99ms/step\n",
            "              precision    recall  f1-score   support\n",
            "\n",
            "    negative       0.46      0.49      0.47       475\n",
            "     neutral       0.56      0.61      0.58       937\n",
            "    positive       0.86      0.82      0.84      2270\n",
            "\n",
            "    accuracy                           0.72      3682\n",
            "   macro avg       0.63      0.64      0.63      3682\n",
            "weighted avg       0.73      0.72      0.73      3682\n",
            "\n"
          ]
        },
        {
          "data": {
            "image/png": "[encoded data removed]",
            "text/plain": [
              "<Figure size 800x600 with 2 Axes>"
            ]
          },
          "metadata": {},
          "output_type": "display_data"
        }
      ],
      "source": [
        "from sklearn.metrics import classification_report, confusion_matrix\n",
        "import seaborn as sns\n",
        "import matplotlib.pyplot as plt\n",
        "\n",
        "# Predictions\n",
        "y_pred = model.predict(X_test)\n",
        "y_pred_classes = np.argmax(y_pred, axis=1)\n",
        "y_true_classes = np.argmax(y_test, axis=1)\n",
        "\n",
        "# Classification report\n",
        "print(classification_report(y_true_classes, y_pred_classes,\n",
        "                          target_names=['negative', 'neutral', 'positive']))\n",
        "\n",
        "# Confusion matrix\n",
        "cm = confusion_matrix(y_true_classes, y_pred_classes)\n",
        "plt.figure(figsize=(8,6))\n",
        "sns.heatmap(cm, annot=True, fmt='d', cmap='Blues',\n",
        "            xticklabels=['negative', 'neutral', 'positive'],\n",
        "            yticklabels=['negative', 'neutral', 'positive'])\n",
        "plt.xlabel('Predicted')\n",
        "plt.ylabel('Actual')\n",
        "plt.title('Confusion Matrix')\n",
        "plt.show()"
      ]
    },
    {
      "cell_type": "markdown",
      "metadata": {
        "id": "txzYbEpGMWHd"
      },
      "source": [
        "# Learning Curve Visualization"
      ]
    },
    {
      "cell_type": "code",
      "execution_count": 9,
      "metadata": {
        "id": "_n0qUqrjMT8s"
      },
      "outputs": [
        {
          "data": {
            "image/png": "[encoded data removed]",
            "text/plain": [
              "<Figure size 1200x500 with 2 Axes>"
            ]
          },
          "metadata": {},
          "output_type": "display_data"
        }
      ],
      "source": [
        "plt.figure(figsize=(12, 5))\n",
        "\n",
        "# Accuracy plot\n",
        "plt.subplot(1, 2, 1)\n",
        "plt.plot(history.history['accuracy'], label='Train Accuracy')\n",
        "plt.plot(history.history['val_accuracy'], label='Validation Accuracy')\n",
        "plt.title('Model Accuracy')\n",
        "plt.ylabel('Accuracy')\n",
        "plt.xlabel('Epoch')\n",
        "plt.legend()\n",
        "\n",
        "# Loss plot\n",
        "plt.subplot(1, 2, 2)\n",
        "plt.plot(history.history['loss'], label='Train Loss')\n",
        "plt.plot(history.history['val_loss'], label='Validation Loss')\n",
        "plt.title('Model Loss')\n",
        "plt.ylabel('Loss')\n",
        "plt.xlabel('Epoch')\n",
        "plt.legend()\n",
        "\n",
        "plt.tight_layout()\n",
        "plt.show()"
      ]
    },
    {
      "cell_type": "markdown",
      "metadata": {
        "id": "VrKd6j2HMZ-G"
      },
      "source": [
        "# Youtube API Integration"
      ]
    },
    {
      "cell_type": "code",
      "execution_count": null,
      "metadata": {
        "id": "GtCqGxkfMc5t"
      },
      "outputs": [
        {
          "name": "stdout",
          "output_type": "stream",
          "text": [
            "Collecting google-api-python-client\n",
            "  Downloading google_api_python_client-2.169.0-py3-none-any.whl.metadata (6.7 kB)\n",
            "Requirement already satisfied: youtube-transcript-api in c:\\users\\gaint\\onedrive\\desktop\\codes\\python\\minor\\venv\\lib\\site-packages (1.0.3)\n",
            "Collecting httplib2<1.0.0,>=0.19.0 (from google-api-python-client)\n",
            "  Downloading httplib2-0.22.0-py3-none-any.whl.metadata (2.6 kB)\n",
            "Collecting google-auth!=2.24.0,!=2.25.0,<3.0.0,>=1.32.0 (from google-api-python-client)\n",
            "  Downloading google_auth-2.40.0-py2.py3-none-any.whl.metadata (6.2 kB)\n",
            "Collecting google-auth-httplib2<1.0.0,>=0.2.0 (from google-api-python-client)\n",
            "  Downloading google_auth_httplib2-0.2.0-py2.py3-none-any.whl.metadata (2.2 kB)\n",
            "Collecting google-api-core!=2.0.*,!=2.1.*,!=2.2.*,!=2.3.0,<3.0.0,>=1.31.5 (from google-api-python-client)\n",
            "  Downloading google_api_core-2.24.2-py3-none-any.whl.metadata (3.0 kB)\n",
            "Collecting uritemplate<5,>=3.0.1 (from google-api-python-client)\n",
            "  Downloading uritemplate-4.1.1-py2.py3-none-any.whl.metadata (2.9 kB)\n",
            "Collecting googleapis-common-protos<2.0.0,>=1.56.2 (from google-api-core!=2.0.*,!=2.1.*,!=2.2.*,!=2.3.0,<3.0.0,>=1.31.5->google-api-python-client)\n",
            "  Downloading googleapis_common_protos-1.70.0-py3-none-any.whl.metadata (9.3 kB)\n",
            "Requirement already satisfied: protobuf!=3.20.0,!=3.20.1,!=4.21.0,!=4.21.1,!=4.21.2,!=4.21.3,!=4.21.4,!=4.21.5,<7.0.0,>=3.19.5 in c:\\users\\gaint\\onedrive\\desktop\\codes\\python\\minor\\venv\\lib\\site-packages (from google-api-core!=2.0.*,!=2.1.*,!=2.2.*,!=2.3.0,<3.0.0,>=1.31.5->google-api-python-client) (5.29.4)\n",
            "Collecting proto-plus<2.0.0,>=1.22.3 (from google-api-core!=2.0.*,!=2.1.*,!=2.2.*,!=2.3.0,<3.0.0,>=1.31.5->google-api-python-client)\n",
            "  Downloading proto_plus-1.26.1-py3-none-any.whl.metadata (2.2 kB)\n",
            "Requirement already satisfied: requests<3.0.0,>=2.18.0 in c:\\users\\gaint\\onedrive\\desktop\\codes\\python\\minor\\venv\\lib\\site-packages (from google-api-core!=2.0.*,!=2.1.*,!=2.2.*,!=2.3.0,<3.0.0,>=1.31.5->google-api-python-client) (2.32.3)\n",
            "Collecting cachetools<6.0,>=2.0.0 (from google-auth!=2.24.0,!=2.25.0,<3.0.0,>=1.32.0->google-api-python-client)\n",
            "  Downloading cachetools-5.5.2-py3-none-any.whl.metadata (5.4 kB)\n",
            "Collecting pyasn1-modules>=0.2.1 (from google-auth!=2.24.0,!=2.25.0,<3.0.0,>=1.32.0->google-api-python-client)\n",
            "  Downloading pyasn1_modules-0.4.2-py3-none-any.whl.metadata (3.5 kB)\n",
            "Collecting rsa<5,>=3.1.4 (from google-auth!=2.24.0,!=2.25.0,<3.0.0,>=1.32.0->google-api-python-client)\n",
            "  Downloading rsa-4.9.1-py3-none-any.whl.metadata (5.6 kB)\n",
            "Requirement already satisfied: pyparsing!=3.0.0,!=3.0.1,!=3.0.2,!=3.0.3,<4,>=2.4.2 in c:\\users\\gaint\\onedrive\\desktop\\codes\\python\\minor\\venv\\lib\\site-packages (from httplib2<1.0.0,>=0.19.0->google-api-python-client) (3.2.3)\n",
            "Requirement already satisfied: charset-normalizer<4,>=2 in c:\\users\\gaint\\onedrive\\desktop\\codes\\python\\minor\\venv\\lib\\site-packages (from requests<3.0.0,>=2.18.0->google-api-core!=2.0.*,!=2.1.*,!=2.2.*,!=2.3.0,<3.0.0,>=1.31.5->google-api-python-client) (3.4.2)\n",
            "Requirement already satisfied: idna<4,>=2.5 in c:\\users\\gaint\\onedrive\\desktop\\codes\\python\\minor\\venv\\lib\\site-packages (from requests<3.0.0,>=2.18.0->google-api-core!=2.0.*,!=2.1.*,!=2.2.*,!=2.3.0,<3.0.0,>=1.31.5->google-api-python-client) (3.10)\n",
            "Requirement already satisfied: urllib3<3,>=1.21.1 in c:\\users\\gaint\\onedrive\\desktop\\codes\\python\\minor\\venv\\lib\\site-packages (from requests<3.0.0,>=2.18.0->google-api-core!=2.0.*,!=2.1.*,!=2.2.*,!=2.3.0,<3.0.0,>=1.31.5->google-api-python-client) (2.4.0)\n",
            "Requirement already satisfied: certifi>=2017.4.17 in c:\\users\\gaint\\onedrive\\desktop\\codes\\python\\minor\\venv\\lib\\site-packages (from requests<3.0.0,>=2.18.0->google-api-core!=2.0.*,!=2.1.*,!=2.2.*,!=2.3.0,<3.0.0,>=1.31.5->google-api-python-client) (2025.4.26)\n",
            "Collecting pyasn1>=0.1.3 (from rsa<5,>=3.1.4->google-auth!=2.24.0,!=2.25.0,<3.0.0,>=1.32.0->google-api-python-client)\n",
            "  Downloading pyasn1-0.6.1-py3-none-any.whl.metadata (8.4 kB)\n",
            "Requirement already satisfied: defusedxml<0.8.0,>=0.7.1 in c:\\users\\gaint\\onedrive\\desktop\\codes\\python\\minor\\venv\\lib\\site-packages (from youtube-transcript-api) (0.7.1)\n",
            "Downloading google_api_python_client-2.169.0-py3-none-any.whl (13.3 MB)\n",
            "   ---------------------------------------- 0.0/13.3 MB ? eta -:--:--\n",
            "    --------------------------------------- 0.3/13.3 MB ? eta -:--:--\n",
            "   -- ------------------------------------- 0.8/13.3 MB 2.4 MB/s eta 0:00:06\n",
            "   ---- ----------------------------------- 1.6/13.3 MB 2.9 MB/s eta 0:00:05\n",
            "   ------- -------------------------------- 2.4/13.3 MB 3.1 MB/s eta 0:00:04\n",
            "   --------- ------------------------------ 3.1/13.3 MB 3.3 MB/s eta 0:00:04\n",
            "   ----------- ---------------------------- 3.9/13.3 MB 3.5 MB/s eta 0:00:03\n",
            "   -------------- ------------------------- 5.0/13.3 MB 3.7 MB/s eta 0:00:03\n",
            "   ------------------ --------------------- 6.0/13.3 MB 3.8 MB/s eta 0:00:02\n",
            "   ---------------------- ----------------- 7.6/13.3 MB 4.2 MB/s eta 0:00:02\n",
            "   ------------------------- -------------- 8.4/13.3 MB 4.3 MB/s eta 0:00:02\n",
            "   --------------------------- ------------ 9.2/13.3 MB 4.2 MB/s eta 0:00:01\n",
            "   --------------------------------- ------ 11.3/13.3 MB 4.7 MB/s eta 0:00:01\n",
            "   ---------------------------------- ----- 11.5/13.3 MB 4.8 MB/s eta 0:00:01\n",
            "   -------------------------------------- - 12.8/13.3 MB 4.4 MB/s eta 0:00:01\n",
            "   ---------------------------------------- 13.3/13.3 MB 4.4 MB/s eta 0:00:00\n",
            "Downloading google_api_core-2.24.2-py3-none-any.whl (160 kB)\n",
            "Downloading google_auth-2.40.0-py2.py3-none-any.whl (216 kB)\n",
            "Downloading cachetools-5.5.2-py3-none-any.whl (10 kB)\n",
            "Downloading google_auth_httplib2-0.2.0-py2.py3-none-any.whl (9.3 kB)\n",
            "Downloading googleapis_common_protos-1.70.0-py3-none-any.whl (294 kB)\n",
            "Downloading httplib2-0.22.0-py3-none-any.whl (96 kB)\n",
            "Downloading proto_plus-1.26.1-py3-none-any.whl (50 kB)\n",
            "Downloading rsa-4.9.1-py3-none-any.whl (34 kB)\n",
            "Downloading uritemplate-4.1.1-py2.py3-none-any.whl (10 kB)\n",
            "Downloading pyasn1-0.6.1-py3-none-any.whl (83 kB)\n",
            "Downloading pyasn1_modules-0.4.2-py3-none-any.whl (181 kB)\n",
            "Installing collected packages: uritemplate, pyasn1, proto-plus, httplib2, googleapis-common-protos, cachetools, rsa, pyasn1-modules, google-auth, google-auth-httplib2, google-api-core, google-api-python-client\n",
            "\n",
            "   --- ------------------------------------  1/12 [pyasn1]\n",
            "   ------------- --------------------------  4/12 [googleapis-common-protos]\n",
            "   ------------- --------------------------  4/12 [googleapis-common-protos]\n",
            "   -------------------- -------------------  6/12 [rsa]\n",
            "   ----------------------- ----------------  7/12 [pyasn1-modules]\n",
            "   ----------------------- ----------------  7/12 [pyasn1-modules]\n",
            "   ----------------------- ----------------  7/12 [pyasn1-modules]\n",
            "   -------------------------- -------------  8/12 [google-auth]\n",
            "   -------------------------- -------------  8/12 [google-auth]\n",
            "   --------------------------------- ------ 10/12 [google-api-core]\n",
            "   ------------------------------------ --- 11/12 [google-api-python-client]\n",
            "   ------------------------------------ --- 11/12 [google-api-python-client]\n",
            "   ------------------------------------ --- 11/12 [google-api-python-client]\n",
            "   ------------------------------------ --- 11/12 [google-api-python-client]\n",
            "   ------------------------------------ --- 11/12 [google-api-python-client]\n",
            "   ------------------------------------ --- 11/12 [google-api-python-client]\n",
            "   ------------------------------------ --- 11/12 [google-api-python-client]\n",
            "   ---------------------------------------- 12/12 [google-api-python-client]\n",
            "\n",
            "Successfully installed cachetools-5.5.2 google-api-core-2.24.2 google-api-python-client-2.169.0 google-auth-2.40.0 google-auth-httplib2-0.2.0 googleapis-common-protos-1.70.0 httplib2-0.22.0 proto-plus-1.26.1 pyasn1-0.6.1 pyasn1-modules-0.4.2 rsa-4.9.1 uritemplate-4.1.1\n",
            "Note: you may need to restart the kernel to use updated packages.\n"
          ]
        }
      ],
      "source": [
        "%pip install google-api-python-client youtube-transcript-api\n",
        "from googleapiclient.discovery import build\n",
        "\n",
        "API_KEY = \"Your_API_Key_Here\"  # Replace with your YouTube API key\n",
        "\n",
        "def get_video_comments(video_url, max_results=100, api_key=None):\n",
        "    \"\"\"Get comments from a YouTube video using the YouTube API\"\"\"\n",
        "    if api_key is None:\n",
        "        print(\"Warning: No API key provided\")\n",
        "        return []\n",
        "\n",
        "    try:\n",
        "        from googleapiclient.discovery import build\n",
        "        video_id = video_url.split('v=')[1].split('&')[0] if 'v=' in video_url else video_url.split('/')[-1]\n",
        "        youtube = build('youtube', 'v3', developerKey=api_key)\n",
        "\n",
        "        comments = []\n",
        "        next_page_token = None\n",
        "\n",
        "        while len(comments) < max_results:\n",
        "            request = youtube.commentThreads().list(\n",
        "                part='snippet',\n",
        "                videoId=video_id,\n",
        "                maxResults=min(100, max_results - len(comments)),\n",
        "                pageToken=next_page_token,\n",
        "                textFormat='plainText'\n",
        "            )\n",
        "            response = request.execute()\n",
        "\n",
        "            for item in response['items']:\n",
        "                comment = item['snippet']['topLevelComment']['snippet']['textDisplay']\n",
        "                comments.append(comment)\n",
        "\n",
        "            next_page_token = response.get('nextPageToken')\n",
        "            if not next_page_token:\n",
        "                break\n",
        "\n",
        "        return comments[:max_results]\n",
        "    except Exception as e:\n",
        "        print(f\"Error retrieving comments: {e}\")\n",
        "        return []\n",
        "\n",
        "# Alternative function using youtube-transcript-api for videos without API key\n",
        "def get_video_comments_alt(video_url, max_results=100):\n",
        "    \"\"\"Alternative comment retrieval using youtube-transcript-api\"\"\"\n",
        "    try:\n",
        "        from youtube_transcript_api import YouTubeTranscriptApi\n",
        "\n",
        "        # Extract video ID from URL\n",
        "        if 'v=' in video_url:\n",
        "            video_id = video_url.split('v=')[1].split('&')[0]\n",
        "        elif 'youtu.be/' in video_url:\n",
        "            video_id = video_url.split('youtu.be/')[1].split('?')[0]\n",
        "        else:\n",
        "            video_id = video_url\n",
        "\n",
        "        # Get transcript as comments\n",
        "        transcript = YouTubeTranscriptApi.get_transcript(video_id)\n",
        "        comments = [item['text'] for item in transcript[:max_results]]\n",
        "        return comments\n",
        "    except Exception as e:\n",
        "        print(f\"Error retrieving transcript: {e}\")\n",
        "        return []"
      ]
    },
    {
      "cell_type": "markdown",
      "metadata": {
        "id": "X9kZ7vROMuEr"
      },
      "source": [
        "# Visualization Function"
      ]
    },
    {
      "cell_type": "code",
      "execution_count": 11,
      "metadata": {
        "id": "h6zgyaVpMwV7"
      },
      "outputs": [],
      "source": [
        "#Visualization Functions\n",
        "import plotly.express as px\n",
        "\n",
        "def create_sentiment_chart(results):\n",
        "    \"\"\"Create interactive visualizations\"\"\"\n",
        "    stats = results['stats']\n",
        "\n",
        "    # Pie chart\n",
        "    fig_pie = px.pie(\n",
        "        values=[stats['positive'], stats['negative'], stats['neutral']],\n",
        "        names=['Positive', 'Negative', 'Neutral'],\n",
        "        title='Sentiment Distribution',\n",
        "        color=['Positive', 'Negative', 'Neutral'],\n",
        "        color_discrete_map={'Positive':'green', 'Negative':'red', 'Neutral':'gray'}\n",
        "    )\n",
        "\n",
        "    # Confidence distribution\n",
        "    confidences = [max(p) for p in results['probabilities']]\n",
        "    fig_hist = px.histogram(\n",
        "        x=confidences,\n",
        "        nbins=20,\n",
        "        title='Prediction Confidence Distribution',\n",
        "        labels={'x': 'Confidence Score'}\n",
        "    )\n",
        "\n",
        "    return fig_pie, fig_hist\n",
        "\n",
        "def show_sample_comments(results, sentiment_type='positive', n=3):\n",
        "    \"\"\"Display sample comments for each sentiment\"\"\"\n",
        "    comments = results['comments']\n",
        "    sentiments = results['sentiments']\n",
        "\n",
        "    sample = [\n",
        "        (comment, confidence)\n",
        "        for comment, sent, confidence in zip(comments, sentiments, results['probabilities'])\n",
        "        if sent == sentiment_type\n",
        "    ][:n]\n",
        "\n",
        "    print(f\"\\nSample {sentiment_type} comments:\")\n",
        "    for i, (comment, prob) in enumerate(sample, 1):\n",
        "        print(f\"\\n{i}. [{np.max(prob):.1%} confidence]\")\n",
        "        print(comment)\n"
      ]
    },
    {
      "cell_type": "markdown",
      "metadata": {
        "id": "T2wlFCSjMxss"
      },
      "source": [
        "# Gradion Interface"
      ]
    },
    {
      "cell_type": "code",
      "execution_count": null,
      "metadata": {
        "colab": {
          "base_uri": "https://localhost:8080/",
          "height": 645
        },
        "id": "JhgYB4fvMziL",
        "outputId": "0ecd9d39-64e2-49a7-f9a3-7d54c8344809"
      },
      "outputs": [
        {
          "name": "stdout",
          "output_type": "stream",
          "text": [
            "* Running on local URL:  http://127.0.0.1:7860\n",
            "* To create a public link, set `share=True` in `launch()`.\n"
          ]
        },
        {
          "data": {
            "text/html": [
              "<div><iframe src=\"http://127.0.0.1:7860/\" width=\"100%\" height=\"500\" allow=\"autoplay; camera; microphone; clipboard-read; clipboard-write;\" frameborder=\"0\" allowfullscreen></iframe></div>"
            ],
            "text/plain": [
              "<IPython.core.display.HTML object>"
            ]
          },
          "metadata": {},
          "output_type": "display_data"
        },
        {
          "data": {
            "text/plain": []
          },
          "execution_count": 12,
          "metadata": {},
          "output_type": "execute_result"
        },
        {
          "name": "stdout",
          "output_type": "stream",
          "text": [
            "\u001b[1m4/4\u001b[0m \u001b[32m━━━━━━━━━━━━━━━━━━━━\u001b[0m\u001b[37m\u001b[0m \u001b[1m0s\u001b[0m 98ms/step\n",
            "Created dataset file at: .gradio\\flagged\\dataset1.csv\n"
          ]
        }
      ],
      "source": [
        "import gradio as gr\n",
        "import re\n",
        "\n",
        "def validate_youtube_url(url):\n",
        "    patterns = [\n",
        "        r'(https?://)?(www\\.)?youtube\\.com/watch\\?v=([^&]+)',\n",
        "        r'(https?://)?(www\\.)?youtu\\.be/([^?]+)'\n",
        "    ]\n",
        "    return any(re.match(pattern, url) for pattern in patterns)\n",
        "\n",
        "def analyze_youtube_video(video_url, api_key=None, max_comments=100):\n",
        "    \"\"\"Main analysis function\"\"\"\n",
        "    # Get comments\n",
        "    if api_key:\n",
        "        comments = get_video_comments(video_url, max_results=max_comments, api_key=api_key)\n",
        "    else:\n",
        "        comments = get_video_comments_alt(video_url, max_results=max_comments)\n",
        "\n",
        "    if not comments:\n",
        "        return None, \"No comments found or error retrieving comments\"\n",
        "\n",
        "    # Preprocess and predict\n",
        "    sequences = tokenizer.texts_to_sequences(comments)\n",
        "    padded = pad_sequences(sequences, maxlen=200, truncating='post', padding='post')\n",
        "    predictions = model.predict(padded)\n",
        "\n",
        "    # Process results\n",
        "    sentiments = np.argmax(predictions, axis=1)\n",
        "    sentiment_labels = ['negative', 'neutral', 'positive']\n",
        "    labeled_sentiments = [sentiment_labels[s] for s in sentiments]\n",
        "\n",
        "    # Calculate stats\n",
        "    total = len(sentiments)\n",
        "    stats = {\n",
        "        'total_comments': total,\n",
        "        'positive': 100 * np.sum(sentiments == 2) / total,\n",
        "        'negative': 100 * np.sum(sentiments == 0) / total,\n",
        "        'neutral': 100 * np.sum(sentiments == 1) / total\n",
        "    }\n",
        "\n",
        "    return {\n",
        "        'comments': comments,\n",
        "        'sentiments': labeled_sentiments,\n",
        "        'probabilities': predictions,\n",
        "        'stats': stats\n",
        "    }, None\n",
        "\n",
        "def analyze_with_gradio(video_url, api_key=None):\n",
        "    if not validate_youtube_url(video_url):\n",
        "        return \"Invalid YouTube URL format\", None, None\n",
        "    results, error = analyze_youtube_video(video_url, api_key=api_key)\n",
        "    if error:\n",
        "        return error, None, None\n",
        "\n",
        "    pie, hist = create_sentiment_chart(results)\n",
        "\n",
        "    output = f\"\"\"\n",
        "    ## Analysis Results\n",
        "    - Total Comments Analyzed: {results['stats']['total_comments']}\n",
        "    - Positive: {results['stats']['positive']:.1f}%\n",
        "    - Negative: {results['stats']['negative']:.1f}%\n",
        "    - Neutral: {results['stats']['neutral']:.1f}%\n",
        "    \"\"\"\n",
        "\n",
        "    return output, pie, hist\n",
        "\n",
        "# Create and launch the interface\n",
        "iface = gr.Interface(\n",
        "    fn=analyze_with_gradio,\n",
        "    inputs=gr.Textbox(label=\"YouTube Video URL\"),\n",
        "    outputs=[\n",
        "        gr.Markdown(label=\"Summary\"),\n",
        "        gr.Plot(label=\"Sentiment Distribution\"),\n",
        "        gr.Plot(label=\"Confidence Scores\")\n",
        "    ],\n",
        "    title=\"YouTube Comment Sentiment Analysis\",\n",
        "    description=\"Analyze the sentiment of comments on any YouTube video\"\n",
        ")\n",
        "\n",
        "iface.launch()"
      ]
    }
  ],
  "metadata": {
    "accelerator": "GPU",
    "colab": {
      "gpuType": "T4",
      "provenance": []
    },
    "kernelspec": {
      "display_name": "venv",
      "language": "python",
      "name": "python3"
    },
    "language_info": {
      "codemirror_mode": {
        "name": "ipython",
        "version": 3
      },
      "file_extension": ".py",
      "mimetype": "text/x-python",
      "name": "python",
      "nbconvert_exporter": "python",
      "pygments_lexer": "ipython3",
      "version": "3.11.1"
    }
  },
  "nbformat": 4,
  "nbformat_minor": 0
}
